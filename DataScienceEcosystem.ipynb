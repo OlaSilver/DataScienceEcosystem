{
 "cells": [
  {
   "cell_type": "markdown",
   "id": "b5cdd1e4-3daf-4862-bee3-6748ea601e48",
   "metadata": {},
   "source": [
    "# Data Science Tools and Ecosystem\n"
   ]
  },
  {
   "cell_type": "markdown",
   "id": "1557a1e8-fe86-40d5-ad93-d40f40a14f6c",
   "metadata": {},
   "source": [
    "In this notebook, Data Science Tools and Ecosystem are summarized"
   ]
  },
  {
   "cell_type": "markdown",
   "id": "b856f85d-568d-4026-8f6b-1acf5be58917",
   "metadata": {},
   "source": [
    "Objectives:\n",
    "\n",
    "* List popular languages for Data Science\n",
    "* Some of the commonly used libraries used by Data Scientists\n",
    "* Data Science Tools\n",
    "* Arithmetic expressions in Python"
   ]
  },
  {
   "cell_type": "markdown",
   "id": "5240fe5b-4b0b-4200-9775-cb3304ec3555",
   "metadata": {},
   "source": [
    "Some of the popular languages that Data Scientists use are:\n",
    "\n",
    "python\n",
    "R\n",
    "Julia"
   ]
  },
  {
   "cell_type": "markdown",
   "id": "061bbcff-ec58-4e6e-9462-36bbdc3a50b8",
   "metadata": {},
   "source": [
    "Some of the commonly used libraries used by Data Scientists include:\n",
    "numpy\n",
    "pandas\n",
    "matplotlib\n"
   ]
  },
  {
   "cell_type": "markdown",
   "id": "a7805f35-e10f-4f8e-a4a7-8351dcaa2dc7",
   "metadata": {},
   "source": [
    "|Data Science Tools|\n",
    "|:----------------:|\n",
    "|Rstudio|\n",
    "|Apache Spark|\n",
    "|Apache Hadoop|\n",
    "|Tensor Flow|\n",
    "|Jupyter notebook|"
   ]
  },
  {
   "cell_type": "markdown",
   "id": "f1648d3a-8ebd-4d4d-a0ca-a328e3a5e6f7",
   "metadata": {},
   "source": [
    "### Below are a few examples of evaluating arithmetic expressions in Python\n",
    " addition +\n",
    "subtraction-\n",
    "multiplication*\n",
    "division"
   ]
  },
  {
   "cell_type": "code",
   "execution_count": 1,
   "id": "ce0494e4-14b8-4ad1-a607-f78c9ab48a4c",
   "metadata": {
    "tags": []
   },
   "outputs": [
    {
     "data": {
      "text/plain": [
       "17"
      ]
     },
     "execution_count": 1,
     "metadata": {},
     "output_type": "execute_result"
    }
   ],
   "source": [
    "#This a simple arithmetic expression to mutiply then add integers\n",
    "\n",
    "(3*4)+5"
   ]
  },
  {
   "cell_type": "code",
   "execution_count": 2,
   "id": "9c920b4a-6cfc-4c42-8d5f-34df9514a5b0",
   "metadata": {
    "tags": []
   },
   "outputs": [
    {
     "data": {
      "text/plain": [
       "3.3333333333333335"
      ]
     },
     "execution_count": 2,
     "metadata": {},
     "output_type": "execute_result"
    }
   ],
   "source": [
    "#This will convert 200 minutes to hours by diving by 60\n",
    "\n",
    "200/60"
   ]
  },
  {
   "cell_type": "markdown",
   "id": "6fdf2686-8b9e-40ec-8d68-e85a0562d387",
   "metadata": {},
   "source": [
    "## Author\n",
    "Olayinka Durojaye"
   ]
  }
 ],
 "metadata": {
  "kernelspec": {
   "display_name": "Python",
   "language": "python",
   "name": "conda-env-python-py"
  },
  "language_info": {
   "codemirror_mode": {
    "name": "ipython",
    "version": 3
   },
   "file_extension": ".py",
   "mimetype": "text/x-python",
   "name": "python",
   "nbconvert_exporter": "python",
   "pygments_lexer": "ipython3",
   "version": "3.7.12"
  },
  "toc-autonumbering": true,
  "toc-showcode": true,
  "toc-showmarkdowntxt": true
 },
 "nbformat": 4,
 "nbformat_minor": 5
}
